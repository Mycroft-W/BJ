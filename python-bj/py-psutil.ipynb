{
 "metadata": {
  "language_info": {
   "codemirror_mode": {
    "name": "ipython",
    "version": 3
   },
   "file_extension": ".py",
   "mimetype": "text/x-python",
   "name": "python",
   "nbconvert_exporter": "python",
   "pygments_lexer": "ipython3",
   "version": "3.8.1-final"
  },
  "orig_nbformat": 2,
  "kernelspec": {
   "name": "python3",
   "display_name": "Python 3.8.1 64-bit",
   "metadata": {
    "interpreter": {
     "hash": "370145251cc500e750978b91073433d3eebb8b97d93cd27ac3d4ef415acba9a2"
    }
   }
  }
 },
 "nbformat": 4,
 "nbformat_minor": 2,
 "cells": [
  {
   "source": [
    "# python 的 psutil 模块\n",
    "该模块用于获取系统资源信息,如: CPU,内存,磁盘,网络,进程等等"
   ],
   "cell_type": "markdown",
   "metadata": {}
  },
  {
   "cell_type": "code",
   "execution_count": 5,
   "metadata": {},
   "outputs": [
    {
     "output_type": "execute_result",
     "data": {
      "text/plain": [
       "['ABOVE_NORMAL_PRIORITY_CLASS',\n",
       " 'AF_LINK',\n",
       " 'AIX',\n",
       " 'AccessDenied',\n",
       " 'BELOW_NORMAL_PRIORITY_CLASS',\n",
       " 'BSD',\n",
       " 'CONN_CLOSE',\n",
       " 'CONN_CLOSE_WAIT',\n",
       " 'CONN_CLOSING',\n",
       " 'CONN_DELETE_TCB',\n",
       " 'CONN_ESTABLISHED',\n",
       " 'CONN_FIN_WAIT1',\n",
       " 'CONN_FIN_WAIT2',\n",
       " 'CONN_LAST_ACK',\n",
       " 'CONN_LISTEN',\n",
       " 'CONN_NONE',\n",
       " 'CONN_SYN_RECV',\n",
       " 'CONN_SYN_SENT',\n",
       " 'CONN_TIME_WAIT',\n",
       " 'Error',\n",
       " 'FREEBSD',\n",
       " 'HIGH_PRIORITY_CLASS',\n",
       " 'IDLE_PRIORITY_CLASS',\n",
       " 'IOPRIO_HIGH',\n",
       " 'IOPRIO_LOW',\n",
       " 'IOPRIO_NORMAL',\n",
       " 'IOPRIO_VERYLOW',\n",
       " 'LINUX',\n",
       " 'MACOS',\n",
       " 'NETBSD',\n",
       " 'NIC_DUPLEX_FULL',\n",
       " 'NIC_DUPLEX_HALF',\n",
       " 'NIC_DUPLEX_UNKNOWN',\n",
       " 'NORMAL_PRIORITY_CLASS',\n",
       " 'NoSuchProcess',\n",
       " 'OPENBSD',\n",
       " 'OSX',\n",
       " 'POSIX',\n",
       " 'POWER_TIME_UNKNOWN',\n",
       " 'POWER_TIME_UNLIMITED',\n",
       " 'PermissionError',\n",
       " 'Popen',\n",
       " 'Process',\n",
       " 'ProcessLookupError',\n",
       " 'REALTIME_PRIORITY_CLASS',\n",
       " 'STATUS_DEAD',\n",
       " 'STATUS_DISK_SLEEP',\n",
       " 'STATUS_IDLE',\n",
       " 'STATUS_LOCKED',\n",
       " 'STATUS_PARKED',\n",
       " 'STATUS_RUNNING',\n",
       " 'STATUS_SLEEPING',\n",
       " 'STATUS_STOPPED',\n",
       " 'STATUS_TRACING_STOP',\n",
       " 'STATUS_WAITING',\n",
       " 'STATUS_WAKING',\n",
       " 'STATUS_ZOMBIE',\n",
       " 'SUNOS',\n",
       " 'TimeoutExpired',\n",
       " 'WINDOWS',\n",
       " 'ZombieProcess',\n",
       " '_LOWEST_PID',\n",
       " '_PY3',\n",
       " '_SENTINEL',\n",
       " '_TOTAL_PHYMEM',\n",
       " '__all__',\n",
       " '__author__',\n",
       " '__builtins__',\n",
       " '__cached__',\n",
       " '__doc__',\n",
       " '__file__',\n",
       " '__loader__',\n",
       " '__name__',\n",
       " '__package__',\n",
       " '__path__',\n",
       " '__spec__',\n",
       " '__version__',\n",
       " '_as_dict_attrnames',\n",
       " '_assert_pid_not_reused',\n",
       " '_common',\n",
       " '_compat',\n",
       " '_cpu_busy_time',\n",
       " '_cpu_times_deltas',\n",
       " '_cpu_tot_time',\n",
       " '_last_cpu_times',\n",
       " '_last_cpu_times_2',\n",
       " '_last_per_cpu_times',\n",
       " '_last_per_cpu_times_2',\n",
       " '_lock',\n",
       " '_pmap',\n",
       " '_ppid_map',\n",
       " '_pprint_secs',\n",
       " '_psplatform',\n",
       " '_psutil_windows',\n",
       " '_pswindows',\n",
       " '_timer',\n",
       " '_wrap_numbers',\n",
       " 'boot_time',\n",
       " 'collections',\n",
       " 'contextlib',\n",
       " 'cpu_count',\n",
       " 'cpu_freq',\n",
       " 'cpu_percent',\n",
       " 'cpu_stats',\n",
       " 'cpu_times',\n",
       " 'cpu_times_percent',\n",
       " 'datetime',\n",
       " 'disk_io_counters',\n",
       " 'disk_partitions',\n",
       " 'disk_usage',\n",
       " 'functools',\n",
       " 'getloadavg',\n",
       " 'long',\n",
       " 'net_connections',\n",
       " 'net_if_addrs',\n",
       " 'net_if_stats',\n",
       " 'net_io_counters',\n",
       " 'os',\n",
       " 'pid_exists',\n",
       " 'pids',\n",
       " 'process_iter',\n",
       " 'pwd',\n",
       " 'sensors_battery',\n",
       " 'signal',\n",
       " 'subprocess',\n",
       " 'swap_memory',\n",
       " 'sys',\n",
       " 'test',\n",
       " 'threading',\n",
       " 'time',\n",
       " 'users',\n",
       " 'version_info',\n",
       " 'virtual_memory',\n",
       " 'wait_procs',\n",
       " 'win_service_get',\n",
       " 'win_service_iter']"
      ]
     },
     "metadata": {},
     "execution_count": 5
    }
   ],
   "source": [
    "import psutil as p\n",
    "dir(p)"
   ]
  },
  {
   "cell_type": "code",
   "execution_count": 9,
   "metadata": {},
   "outputs": [
    {
     "output_type": "execute_result",
     "data": {
      "text/plain": [
       "4"
      ]
     },
     "metadata": {},
     "execution_count": 9
    }
   ],
   "source": [
    "# 获取cpu物理核心数\n",
    "p.cpu_count(logical=False)"
   ]
  },
  {
   "cell_type": "code",
   "execution_count": 10,
   "metadata": {},
   "outputs": [
    {
     "output_type": "execute_result",
     "data": {
      "text/plain": [
       "scpufreq(current=2601.0, min=0.0, max=2601.0)"
      ]
     },
     "metadata": {},
     "execution_count": 10
    }
   ],
   "source": [
    "# 获取cpu频率\n",
    "p.cpu_freq()"
   ]
  },
  {
   "cell_type": "code",
   "execution_count": 12,
   "metadata": {},
   "outputs": [
    {
     "output_type": "execute_result",
     "data": {
      "text/plain": [
       "5.4"
      ]
     },
     "metadata": {},
     "execution_count": 12
    }
   ],
   "source": [
    "# cpu使用率\n",
    "p.cpu_percent()"
   ]
  },
  {
   "cell_type": "code",
   "execution_count": 13,
   "metadata": {},
   "outputs": [
    {
     "output_type": "execute_result",
     "data": {
      "text/plain": [
       "scputimes(user=7812.078125, system=3593.312499999971, idle=191961.546875, interrupt=120.390625, dpc=126.34375)"
      ]
     },
     "metadata": {},
     "execution_count": 13
    }
   ],
   "source": [
    "# cpu 时间\n",
    "p.cpu_times()"
   ]
  },
  {
   "cell_type": "code",
   "execution_count": 14,
   "metadata": {},
   "outputs": [
    {
     "output_type": "execute_result",
     "data": {
      "text/plain": [
       "[sdiskpart(device='C:\\\\', mountpoint='C:\\\\', fstype='NTFS', opts='rw,fixed'),\n",
       " sdiskpart(device='D:\\\\', mountpoint='D:\\\\', fstype='NTFS', opts='rw,fixed')]"
      ]
     },
     "metadata": {},
     "execution_count": 14
    }
   ],
   "source": [
    "# 磁盘设备\n",
    "p.disk_partitions()"
   ]
  },
  {
   "cell_type": "code",
   "execution_count": 16,
   "metadata": {},
   "outputs": [
    {
     "output_type": "execute_result",
     "data": {
      "text/plain": [
       "sdiskusage(total=126748626944, used=103239831552, free=23508795392, percent=81.5)"
      ]
     },
     "metadata": {},
     "execution_count": 16
    }
   ],
   "source": [
    "# 磁盘空间\n",
    "p.disk_usage(\"C:\")"
   ]
  },
  {
   "cell_type": "code",
   "execution_count": 17,
   "metadata": {},
   "outputs": [
    {
     "output_type": "execute_result",
     "data": {
      "text/plain": [
       "sdiskio(read_count=395714, write_count=516526, read_bytes=8747942400, write_bytes=8101164032, read_time=970, write_time=137)"
      ]
     },
     "metadata": {},
     "execution_count": 17
    }
   ],
   "source": [
    "# 磁盘IO\n",
    "p.disk_io_counters()"
   ]
  },
  {
   "cell_type": "code",
   "execution_count": 18,
   "metadata": {},
   "outputs": [
    {
     "output_type": "execute_result",
     "data": {
      "text/plain": [
       "svmem(total=17060315136, available=8590049280, percent=49.6, used=8470265856, free=8590049280)"
      ]
     },
     "metadata": {},
     "execution_count": 18
    }
   ],
   "source": [
    "# 内存信息\n",
    "p.virtual_memory()"
   ]
  },
  {
   "cell_type": "code",
   "execution_count": 19,
   "metadata": {},
   "outputs": [
    {
     "output_type": "execute_result",
     "data": {
      "text/plain": [
       "sswap(total=18134056960, used=9086042112, free=9048014848, percent=50.1, sin=0, sout=0)"
      ]
     },
     "metadata": {},
     "execution_count": 19
    }
   ],
   "source": [
    "# 交换空间信息\n",
    "p.swap_memory()"
   ]
  },
  {
   "cell_type": "code",
   "execution_count": 21,
   "metadata": {},
   "outputs": [
    {
     "output_type": "execute_result",
     "data": {
      "text/plain": [
       "snetio(bytes_sent=152598762, bytes_recv=2308163550, packets_sent=1425506, packets_recv=3339916, errin=0, errout=0, dropin=0, dropout=0)"
      ]
     },
     "metadata": {},
     "execution_count": 21
    }
   ],
   "source": [
    "# 网络IO\n",
    "p.net_io_counters()"
   ]
  },
  {
   "cell_type": "code",
   "execution_count": 24,
   "metadata": {},
   "outputs": [
    {
     "output_type": "execute_result",
     "data": {
      "text/plain": [
       "psutil.Process(pid=0, name='System Idle Process', status='running')"
      ]
     },
     "metadata": {},
     "execution_count": 24
    }
   ],
   "source": [
    "# 进程号和实例信息\n",
    "p.pids()\n",
    "p.Process(0)"
   ]
  },
  {
   "cell_type": "code",
   "execution_count": 29,
   "metadata": {
    "tags": []
   },
   "outputs": [
    {
     "output_type": "stream",
     "name": "stdout",
     "text": [
      "Help on package psutil:\n\nNAME\n    psutil\n\nDESCRIPTION\n    psutil is a cross-platform library for retrieving information on\n    running processes and system utilization (CPU, memory, disks, network,\n    sensors) in Python. Supported platforms:\n    \n     - Linux\n     - Windows\n     - macOS\n     - FreeBSD\n     - OpenBSD\n     - NetBSD\n     - Sun Solaris\n     - AIX\n    \n    Works with Python versions from 2.6 to 3.4+.\n\nPACKAGE CONTENTS\n    _common\n    _compat\n    _psaix\n    _psbsd\n    _pslinux\n    _psosx\n    _psposix\n    _pssunos\n    _psutil_windows\n    _pswindows\n    tests (package)\n\nSUBMODULES\n    _psplatform\n\nCLASSES\n    builtins.Exception(builtins.BaseException)\n        Error\n            AccessDenied\n            NoSuchProcess\n                ZombieProcess\n            TimeoutExpired\n    builtins.object\n        Process\n            Popen\n    \n    class AccessDenied(Error)\n     |  AccessDenied(pid=None, name=None, msg=None)\n     |  \n     |  Exception raised when permission to perform an action is denied.\n     |  \n     |  Method resolution order:\n     |      AccessDenied\n     |      Error\n     |      builtins.Exception\n     |      builtins.BaseException\n     |      builtins.object\n     |  \n     |  Methods defined here:\n     |  \n     |  __init__(self, pid=None, name=None, msg=None)\n     |      Initialize self.  See help(type(self)) for accurate signature.\n     |  \n     |  ----------------------------------------------------------------------\n     |  Methods inherited from Error:\n     |  \n     |  __repr__(self)\n     |      Return repr(self).\n     |  \n     |  __str__ = __repr__(self)\n     |  \n     |  ----------------------------------------------------------------------\n     |  Data descriptors inherited from Error:\n     |  \n     |  __weakref__\n     |      list of weak references to the object (if defined)\n     |  \n     |  ----------------------------------------------------------------------\n     |  Static methods inherited from builtins.Exception:\n     |  \n     |  __new__(*args, **kwargs) from builtins.type\n     |      Create and return a new object.  See help(type) for accurate signature.\n     |  \n     |  ----------------------------------------------------------------------\n     |  Methods inherited from builtins.BaseException:\n     |  \n     |  __delattr__(self, name, /)\n     |      Implement delattr(self, name).\n     |  \n     |  __getattribute__(self, name, /)\n     |      Return getattr(self, name).\n     |  \n     |  __reduce__(...)\n     |      Helper for pickle.\n     |  \n     |  __setattr__(self, name, value, /)\n     |      Implement setattr(self, name, value).\n     |  \n     |  __setstate__(...)\n     |  \n     |  with_traceback(...)\n     |      Exception.with_traceback(tb) --\n     |      set self.__traceback__ to tb and return self.\n     |  \n     |  ----------------------------------------------------------------------\n     |  Data descriptors inherited from builtins.BaseException:\n     |  \n     |  __cause__\n     |      exception cause\n     |  \n     |  __context__\n     |      exception context\n     |  \n     |  __dict__\n     |  \n     |  __suppress_context__\n     |  \n     |  __traceback__\n     |  \n     |  args\n    \n    class Error(builtins.Exception)\n     |  Error(msg='')\n     |  \n     |  Base exception class. All other psutil exceptions inherit\n     |  from this one.\n     |  \n     |  Method resolution order:\n     |      Error\n     |      builtins.Exception\n     |      builtins.BaseException\n     |      builtins.object\n     |  \n     |  Methods defined here:\n     |  \n     |  __init__(self, msg='')\n     |      Initialize self.  See help(type(self)) for accurate signature.\n     |  \n     |  __repr__(self)\n     |      Return repr(self).\n     |  \n     |  __str__ = __repr__(self)\n     |  \n     |  ----------------------------------------------------------------------\n     |  Data descriptors defined here:\n     |  \n     |  __weakref__\n     |      list of weak references to the object (if defined)\n     |  \n     |  ----------------------------------------------------------------------\n     |  Static methods inherited from builtins.Exception:\n     |  \n     |  __new__(*args, **kwargs) from builtins.type\n     |      Create and return a new object.  See help(type) for accurate signature.\n     |  \n     |  ----------------------------------------------------------------------\n     |  Methods inherited from builtins.BaseException:\n     |  \n     |  __delattr__(self, name, /)\n     |      Implement delattr(self, name).\n     |  \n     |  __getattribute__(self, name, /)\n     |      Return getattr(self, name).\n     |  \n     |  __reduce__(...)\n     |      Helper for pickle.\n     |  \n     |  __setattr__(self, name, value, /)\n     |      Implement setattr(self, name, value).\n     |  \n     |  __setstate__(...)\n     |  \n     |  with_traceback(...)\n     |      Exception.with_traceback(tb) --\n     |      set self.__traceback__ to tb and return self.\n     |  \n     |  ----------------------------------------------------------------------\n     |  Data descriptors inherited from builtins.BaseException:\n     |  \n     |  __cause__\n     |      exception cause\n     |  \n     |  __context__\n     |      exception context\n     |  \n     |  __dict__\n     |  \n     |  __suppress_context__\n     |  \n     |  __traceback__\n     |  \n     |  args\n    \n    class NoSuchProcess(Error)\n     |  NoSuchProcess(pid, name=None, msg=None)\n     |  \n     |  Exception raised when a process with a certain PID doesn't\n     |  or no longer exists.\n     |  \n     |  Method resolution order:\n     |      NoSuchProcess\n     |      Error\n     |      builtins.Exception\n     |      builtins.BaseException\n     |      builtins.object\n     |  \n     |  Methods defined here:\n     |  \n     |  __init__(self, pid, name=None, msg=None)\n     |      Initialize self.  See help(type(self)) for accurate signature.\n     |  \n     |  ----------------------------------------------------------------------\n     |  Methods inherited from Error:\n     |  \n     |  __repr__(self)\n     |      Return repr(self).\n     |  \n     |  __str__ = __repr__(self)\n     |  \n     |  ----------------------------------------------------------------------\n     |  Data descriptors inherited from Error:\n     |  \n     |  __weakref__\n     |      list of weak references to the object (if defined)\n     |  \n     |  ----------------------------------------------------------------------\n     |  Static methods inherited from builtins.Exception:\n     |  \n     |  __new__(*args, **kwargs) from builtins.type\n     |      Create and return a new object.  See help(type) for accurate signature.\n     |  \n     |  ----------------------------------------------------------------------\n     |  Methods inherited from builtins.BaseException:\n     |  \n     |  __delattr__(self, name, /)\n     |      Implement delattr(self, name).\n     |  \n     |  __getattribute__(self, name, /)\n     |      Return getattr(self, name).\n     |  \n     |  __reduce__(...)\n     |      Helper for pickle.\n     |  \n     |  __setattr__(self, name, value, /)\n     |      Implement setattr(self, name, value).\n     |  \n     |  __setstate__(...)\n     |  \n     |  with_traceback(...)\n     |      Exception.with_traceback(tb) --\n     |      set self.__traceback__ to tb and return self.\n     |  \n     |  ----------------------------------------------------------------------\n     |  Data descriptors inherited from builtins.BaseException:\n     |  \n     |  __cause__\n     |      exception cause\n     |  \n     |  __context__\n     |      exception context\n     |  \n     |  __dict__\n     |  \n     |  __suppress_context__\n     |  \n     |  __traceback__\n     |  \n     |  args\n    \n    class Popen(Process)\n     |  Popen(*args, **kwargs)\n     |  \n     |  Same as subprocess.Popen, but in addition it provides all\n     |      psutil.Process methods in a single class.\n     |      For the following methods which are common to both classes, psutil\n     |      implementation takes precedence:\n     |  \n     |      * send_signal()\n     |      * terminate()\n     |      * kill()\n     |  \n     |      This is done in order to avoid killing another process in case its\n     |      PID has been reused, fixing BPO-6973.\n     |  \n     |        >>> import psutil\n     |        >>> from subprocess import PIPE\n     |        >>> p = psutil.Popen([\"python\", \"-c\", \"print 'hi'\"], stdout=PIPE)\n     |        >>> p.name()\n     |        'python'\n     |        >>> p.uids()\n     |        user(real=1000, effective=1000, saved=1000)\n     |        >>> p.username()\n     |        'giampaolo'\n     |        >>> p.communicate()\n     |        ('hi\n     |  ', None)\n     |        >>> p.terminate()\n     |        >>> p.wait(timeout=2)\n     |        0\n     |        >>>\n     |  \n     |  Method resolution order:\n     |      Popen\n     |      Process\n     |      builtins.object\n     |  \n     |  Methods defined here:\n     |  \n     |  __dir__(self)\n     |      Default dir() implementation.\n     |  \n     |  __enter__(self)\n     |  \n     |  __exit__(self, *args, **kwargs)\n     |  \n     |  __getattribute__(self, name)\n     |      Return getattr(self, name).\n     |  \n     |  __init__(self, *args, **kwargs)\n     |      Initialize self.  See help(type(self)) for accurate signature.\n     |  \n     |  wait(self, timeout=None)\n     |      Wait for process to terminate and, if process is a children\n     |      of os.getpid(), also return its exit code, else None.\n     |      On Windows there's no such limitation (exit code is always\n     |      returned).\n     |      \n     |      If the process is already terminated immediately return None\n     |      instead of raising NoSuchProcess.\n     |      \n     |      If *timeout* (in seconds) is specified and process is still\n     |      alive raise TimeoutExpired.\n     |      \n     |      To wait for multiple Process(es) use psutil.wait_procs().\n     |  \n     |  ----------------------------------------------------------------------\n     |  Methods inherited from Process:\n     |  \n     |  __eq__(self, other)\n     |      Return self==value.\n     |  \n     |  __hash__(self)\n     |      Return hash(self).\n     |  \n     |  __ne__(self, other)\n     |      Return self!=value.\n     |  \n     |  __repr__ = __str__(self)\n     |  \n     |  __str__(self)\n     |      Return str(self).\n     |  \n     |  as_dict(self, attrs=None, ad_value=None)\n     |      Utility method returning process information as a\n     |      hashable dictionary.\n     |      If *attrs* is specified it must be a list of strings\n     |      reflecting available Process class' attribute names\n     |      (e.g. ['cpu_times', 'name']) else all public (read\n     |      only) attributes are assumed.\n     |      *ad_value* is the value which gets assigned in case\n     |      AccessDenied or ZombieProcess exception is raised when\n     |      retrieving that particular process information.\n     |  \n     |  children(self, recursive=False)\n     |      Return the children of this process as a list of Process\n     |      instances, pre-emptively checking whether PID has been reused.\n     |      If *recursive* is True return all the parent descendants.\n     |      \n     |      Example (A == this process):\n     |      \n     |       A ─┐\n     |          │\n     |          ├─ B (child) ─┐\n     |          │             └─ X (grandchild) ─┐\n     |          │                                └─ Y (great grandchild)\n     |          ├─ C (child)\n     |          └─ D (child)\n     |      \n     |      >>> import psutil\n     |      >>> p = psutil.Process()\n     |      >>> p.children()\n     |      B, C, D\n     |      >>> p.children(recursive=True)\n     |      B, X, Y, C, D\n     |      \n     |      Note that in the example above if process X disappears\n     |      process Y won't be listed as the reference to process A\n     |      is lost.\n     |  \n     |  cmdline(self)\n     |      The command line this process has been called with.\n     |  \n     |  connections(self, kind='inet')\n     |      Return socket connections opened by process as a list of\n     |      (fd, family, type, laddr, raddr, status) namedtuples.\n     |      The *kind* parameter filters for connections that match the\n     |      following criteria:\n     |      \n     |      +------------+----------------------------------------------------+\n     |      | Kind Value | Connections using                                  |\n     |      +------------+----------------------------------------------------+\n     |      | inet       | IPv4 and IPv6                                      |\n     |      | inet4      | IPv4                                               |\n     |      | inet6      | IPv6                                               |\n     |      | tcp        | TCP                                                |\n     |      | tcp4       | TCP over IPv4                                      |\n     |      | tcp6       | TCP over IPv6                                      |\n     |      | udp        | UDP                                                |\n     |      | udp4       | UDP over IPv4                                      |\n     |      | udp6       | UDP over IPv6                                      |\n     |      | unix       | UNIX socket (both UDP and TCP protocols)           |\n     |      | all        | the sum of all the possible families and protocols |\n     |      +------------+----------------------------------------------------+\n     |  \n     |  cpu_affinity(self, cpus=None)\n     |      Get or set process CPU affinity.\n     |      If specified, *cpus* must be a list of CPUs for which you\n     |      want to set the affinity (e.g. [0, 1]).\n     |      If an empty list is passed, all egible CPUs are assumed\n     |      (and set).\n     |      (Windows, Linux and BSD only).\n     |  \n     |  cpu_percent(self, interval=None)\n     |      Return a float representing the current process CPU\n     |      utilization as a percentage.\n     |      \n     |      When *interval* is 0.0 or None (default) compares process times\n     |      to system CPU times elapsed since last call, returning\n     |      immediately (non-blocking). That means that the first time\n     |      this is called it will return a meaningful 0.0 value.\n     |      \n     |      When *interval* is > 0.0 compares process times to system CPU\n     |      times elapsed before and after the interval (blocking).\n     |      \n     |      In this case is recommended for accuracy that this function\n     |      be called with at least 0.1 seconds between calls.\n     |      \n     |      A value > 100.0 can be returned in case of processes running\n     |      multiple threads on different CPU cores.\n     |      \n     |      The returned value is explicitly NOT split evenly between\n     |      all available logical CPUs. This means that a busy loop process\n     |      running on a system with 2 logical CPUs will be reported as\n     |      having 100% CPU utilization instead of 50%.\n     |      \n     |      Examples:\n     |      \n     |        >>> import psutil\n     |        >>> p = psutil.Process(os.getpid())\n     |        >>> # blocking\n     |        >>> p.cpu_percent(interval=1)\n     |        2.0\n     |        >>> # non-blocking (percentage since last call)\n     |        >>> p.cpu_percent(interval=None)\n     |        2.9\n     |        >>>\n     |  \n     |  cpu_times(self)\n     |      Return a (user, system, children_user, children_system)\n     |      namedtuple representing the accumulated process time, in\n     |      seconds.\n     |      This is similar to os.times() but per-process.\n     |      On macOS and Windows children_user and children_system are\n     |      always set to 0.\n     |  \n     |  create_time(self)\n     |      The process creation time as a floating point number\n     |      expressed in seconds since the epoch, in UTC.\n     |      The return value is cached after first call.\n     |  \n     |  cwd(self)\n     |      Process current working directory as an absolute path.\n     |  \n     |  environ(self)\n     |      The environment variables of the process as a dict.  Note: this\n     |      might not reflect changes made after the process started.\n     |  \n     |  exe(self)\n     |      The process executable as an absolute path.\n     |      May also be an empty string.\n     |      The return value is cached after first call.\n     |  \n     |  io_counters(self)\n     |      Return process I/O statistics as a\n     |      (read_count, write_count, read_bytes, write_bytes)\n     |      namedtuple.\n     |      Those are the number of read/write calls performed and the\n     |      amount of bytes read and written by the process.\n     |  \n     |  ionice(self, ioclass=None, value=None)\n     |      Get or set process I/O niceness (priority).\n     |      \n     |      On Linux *ioclass* is one of the IOPRIO_CLASS_* constants.\n     |      *value* is a number which goes from 0 to 7. The higher the\n     |      value, the lower the I/O priority of the process.\n     |      \n     |      On Windows only *ioclass* is used and it can be set to 2\n     |      (normal), 1 (low) or 0 (very low).\n     |      \n     |      Available on Linux and Windows > Vista only.\n     |  \n     |  is_running(self)\n     |      Return whether this process is running.\n     |      It also checks if PID has been reused by another process in\n     |      which case return False.\n     |  \n     |  kill(self)\n     |      Kill the current process with SIGKILL pre-emptively checking\n     |      whether PID has been reused.\n     |  \n     |  memory_full_info(self)\n     |      This method returns the same information as memory_info(),\n     |      plus, on some platform (Linux, macOS, Windows), also provides\n     |      additional metrics (USS, PSS and swap).\n     |      The additional metrics provide a better representation of actual\n     |      process memory usage.\n     |      \n     |      Namely USS is the memory which is unique to a process and which\n     |      would be freed if the process was terminated right now.\n     |      \n     |      It does so by passing through the whole process address.\n     |      As such it usually requires higher user privileges than\n     |      memory_info() and is considerably slower.\n     |  \n     |  memory_info(self)\n     |      Return a namedtuple with variable fields depending on the\n     |      platform, representing memory information about the process.\n     |      \n     |      The \"portable\" fields available on all plaforms are `rss` and `vms`.\n     |      \n     |      All numbers are expressed in bytes.\n     |  \n     |  memory_info_ex(self)\n     |      memory_info_ex() is deprecated and will be removed; use memory_info() instead\n     |  \n     |  memory_maps(self, grouped=True)\n     |      Return process' mapped memory regions as a list of namedtuples\n     |      whose fields are variable depending on the platform.\n     |      \n     |      If *grouped* is True the mapped regions with the same 'path'\n     |      are grouped together and the different memory fields are summed.\n     |      \n     |      If *grouped* is False every mapped region is shown as a single\n     |      entity and the namedtuple will also include the mapped region's\n     |      address space ('addr') and permission set ('perms').\n     |  \n     |  memory_percent(self, memtype='rss')\n     |      Compare process memory to total physical system memory and\n     |      calculate process memory utilization as a percentage.\n     |      *memtype* argument is a string that dictates what type of\n     |      process memory you want to compare against (defaults to \"rss\").\n     |      The list of available strings can be obtained like this:\n     |      \n     |      >>> psutil.Process().memory_info()._fields\n     |      ('rss', 'vms', 'shared', 'text', 'lib', 'data', 'dirty', 'uss', 'pss')\n     |  \n     |  name(self)\n     |      The process name. The return value is cached after first call.\n     |  \n     |  nice(self, value=None)\n     |      Get or set process niceness (priority).\n     |  \n     |  num_ctx_switches(self)\n     |      Return the number of voluntary and involuntary context\n     |      switches performed by this process.\n     |  \n     |  num_handles(self)\n     |      Return the number of handles opened by this process\n     |      (Windows only).\n     |  \n     |  num_threads(self)\n     |      Return the number of threads used by this process.\n     |  \n     |  oneshot(self)\n     |      Utility context manager which considerably speeds up the\n     |      retrieval of multiple process information at the same time.\n     |      \n     |      Internally different process info (e.g. name, ppid, uids,\n     |      gids, ...) may be fetched by using the same routine, but\n     |      only one information is returned and the others are discarded.\n     |      When using this context manager the internal routine is\n     |      executed once (in the example below on name()) and the\n     |      other info are cached.\n     |      \n     |      The cache is cleared when exiting the context manager block.\n     |      The advice is to use this every time you retrieve more than\n     |      one information about the process. If you're lucky, you'll\n     |      get a hell of a speedup.\n     |      \n     |      >>> import psutil\n     |      >>> p = psutil.Process()\n     |      >>> with p.oneshot():\n     |      ...     p.name()  # collect multiple info\n     |      ...     p.cpu_times()  # return cached value\n     |      ...     p.cpu_percent()  # return cached value\n     |      ...     p.create_time()  # return cached value\n     |      ...\n     |      >>>\n     |  \n     |  open_files(self)\n     |      Return files opened by process as a list of\n     |      (path, fd) namedtuples including the absolute file name\n     |      and file descriptor number.\n     |  \n     |  parent(self)\n     |      Return the parent process as a Process object pre-emptively\n     |      checking whether PID has been reused.\n     |      If no parent is known return None.\n     |  \n     |  parents(self)\n     |      Return the parents of this process as a list of Process\n     |      instances. If no parents are known return an empty list.\n     |  \n     |  ppid(self)\n     |      The process parent PID.\n     |      On Windows the return value is cached after first call.\n     |  \n     |  resume(self)\n     |      Resume process execution with SIGCONT pre-emptively checking\n     |      whether PID has been reused.\n     |      On Windows this has the effect of resuming all process threads.\n     |  \n     |  send_signal(self, sig)\n     |      Send a signal *sig* to process pre-emptively checking\n     |      whether PID has been reused (see signal module constants) .\n     |      On Windows only SIGTERM is valid and is treated as an alias\n     |      for kill().\n     |  \n     |  status(self)\n     |      The process current status as a STATUS_* constant.\n     |  \n     |  suspend(self)\n     |      Suspend process execution with SIGSTOP pre-emptively checking\n     |      whether PID has been reused.\n     |      On Windows this has the effect ot suspending all process threads.\n     |  \n     |  terminate(self)\n     |      Terminate the process with SIGTERM pre-emptively checking\n     |      whether PID has been reused.\n     |      On Windows this is an alias for kill().\n     |  \n     |  threads(self)\n     |      Return threads opened by process as a list of\n     |      (id, user_time, system_time) namedtuples representing\n     |      thread id and thread CPU times (user/system).\n     |      On OpenBSD this method requires root access.\n     |  \n     |  username(self)\n     |      The name of the user that owns the process.\n     |      On UNIX this is calculated by using *real* process uid.\n     |  \n     |  ----------------------------------------------------------------------\n     |  Readonly properties inherited from Process:\n     |  \n     |  pid\n     |      The process PID.\n     |  \n     |  ----------------------------------------------------------------------\n     |  Data descriptors inherited from Process:\n     |  \n     |  __dict__\n     |      dictionary for instance variables (if defined)\n     |  \n     |  __weakref__\n     |      list of weak references to the object (if defined)\n    \n    class Process(builtins.object)\n     |  Process(pid=None)\n     |  \n     |  Represents an OS process with the given PID.\n     |  If PID is omitted current process PID (os.getpid()) is used.\n     |  Raise NoSuchProcess if PID does not exist.\n     |  \n     |  Note that most of the methods of this class do not make sure\n     |  the PID of the process being queried has been reused over time.\n     |  That means you might end up retrieving an information referring\n     |  to another process in case the original one this instance\n     |  refers to is gone in the meantime.\n     |  \n     |  The only exceptions for which process identity is pre-emptively\n     |  checked and guaranteed are:\n     |  \n     |   - parent()\n     |   - children()\n     |   - nice() (set)\n     |   - ionice() (set)\n     |   - rlimit() (set)\n     |   - cpu_affinity (set)\n     |   - suspend()\n     |   - resume()\n     |   - send_signal()\n     |   - terminate()\n     |   - kill()\n     |  \n     |  To prevent this problem for all other methods you can:\n     |   - use is_running() before querying the process\n     |   - if you're continuously iterating over a set of Process\n     |     instances use process_iter() which pre-emptively checks\n     |   process identity for every yielded instance\n     |  \n     |  Methods defined here:\n     |  \n     |  __eq__(self, other)\n     |      Return self==value.\n     |  \n     |  __hash__(self)\n     |      Return hash(self).\n     |  \n     |  __init__(self, pid=None)\n     |      Initialize self.  See help(type(self)) for accurate signature.\n     |  \n     |  __ne__(self, other)\n     |      Return self!=value.\n     |  \n     |  __repr__ = __str__(self)\n     |  \n     |  __str__(self)\n     |      Return str(self).\n     |  \n     |  as_dict(self, attrs=None, ad_value=None)\n     |      Utility method returning process information as a\n     |      hashable dictionary.\n     |      If *attrs* is specified it must be a list of strings\n     |      reflecting available Process class' attribute names\n     |      (e.g. ['cpu_times', 'name']) else all public (read\n     |      only) attributes are assumed.\n     |      *ad_value* is the value which gets assigned in case\n     |      AccessDenied or ZombieProcess exception is raised when\n     |      retrieving that particular process information.\n     |  \n     |  children(self, recursive=False)\n     |      Return the children of this process as a list of Process\n     |      instances, pre-emptively checking whether PID has been reused.\n     |      If *recursive* is True return all the parent descendants.\n     |      \n     |      Example (A == this process):\n     |      \n     |       A ─┐\n     |          │\n     |          ├─ B (child) ─┐\n     |          │             └─ X (grandchild) ─┐\n     |          │                                └─ Y (great grandchild)\n     |          ├─ C (child)\n     |          └─ D (child)\n     |      \n     |      >>> import psutil\n     |      >>> p = psutil.Process()\n     |      >>> p.children()\n     |      B, C, D\n     |      >>> p.children(recursive=True)\n     |      B, X, Y, C, D\n     |      \n     |      Note that in the example above if process X disappears\n     |      process Y won't be listed as the reference to process A\n     |      is lost.\n     |  \n     |  cmdline(self)\n     |      The command line this process has been called with.\n     |  \n     |  connections(self, kind='inet')\n     |      Return socket connections opened by process as a list of\n     |      (fd, family, type, laddr, raddr, status) namedtuples.\n     |      The *kind* parameter filters for connections that match the\n     |      following criteria:\n     |      \n     |      +------------+----------------------------------------------------+\n     |      | Kind Value | Connections using                                  |\n     |      +------------+----------------------------------------------------+\n     |      | inet       | IPv4 and IPv6                                      |\n     |      | inet4      | IPv4                                               |\n     |      | inet6      | IPv6                                               |\n     |      | tcp        | TCP                                                |\n     |      | tcp4       | TCP over IPv4                                      |\n     |      | tcp6       | TCP over IPv6                                      |\n     |      | udp        | UDP                                                |\n     |      | udp4       | UDP over IPv4                                      |\n     |      | udp6       | UDP over IPv6                                      |\n     |      | unix       | UNIX socket (both UDP and TCP protocols)           |\n     |      | all        | the sum of all the possible families and protocols |\n     |      +------------+----------------------------------------------------+\n     |  \n     |  cpu_affinity(self, cpus=None)\n     |      Get or set process CPU affinity.\n     |      If specified, *cpus* must be a list of CPUs for which you\n     |      want to set the affinity (e.g. [0, 1]).\n     |      If an empty list is passed, all egible CPUs are assumed\n     |      (and set).\n     |      (Windows, Linux and BSD only).\n     |  \n     |  cpu_percent(self, interval=None)\n     |      Return a float representing the current process CPU\n     |      utilization as a percentage.\n     |      \n     |      When *interval* is 0.0 or None (default) compares process times\n     |      to system CPU times elapsed since last call, returning\n     |      immediately (non-blocking). That means that the first time\n     |      this is called it will return a meaningful 0.0 value.\n     |      \n     |      When *interval* is > 0.0 compares process times to system CPU\n     |      times elapsed before and after the interval (blocking).\n     |      \n     |      In this case is recommended for accuracy that this function\n     |      be called with at least 0.1 seconds between calls.\n     |      \n     |      A value > 100.0 can be returned in case of processes running\n     |      multiple threads on different CPU cores.\n     |      \n     |      The returned value is explicitly NOT split evenly between\n     |      all available logical CPUs. This means that a busy loop process\n     |      running on a system with 2 logical CPUs will be reported as\n     |      having 100% CPU utilization instead of 50%.\n     |      \n     |      Examples:\n     |      \n     |        >>> import psutil\n     |        >>> p = psutil.Process(os.getpid())\n     |        >>> # blocking\n     |        >>> p.cpu_percent(interval=1)\n     |        2.0\n     |        >>> # non-blocking (percentage since last call)\n     |        >>> p.cpu_percent(interval=None)\n     |        2.9\n     |        >>>\n     |  \n     |  cpu_times(self)\n     |      Return a (user, system, children_user, children_system)\n     |      namedtuple representing the accumulated process time, in\n     |      seconds.\n     |      This is similar to os.times() but per-process.\n     |      On macOS and Windows children_user and children_system are\n     |      always set to 0.\n     |  \n     |  create_time(self)\n     |      The process creation time as a floating point number\n     |      expressed in seconds since the epoch, in UTC.\n     |      The return value is cached after first call.\n     |  \n     |  cwd(self)\n     |      Process current working directory as an absolute path.\n     |  \n     |  environ(self)\n     |      The environment variables of the process as a dict.  Note: this\n     |      might not reflect changes made after the process started.\n     |  \n     |  exe(self)\n     |      The process executable as an absolute path.\n     |      May also be an empty string.\n     |      The return value is cached after first call.\n     |  \n     |  io_counters(self)\n     |      Return process I/O statistics as a\n     |      (read_count, write_count, read_bytes, write_bytes)\n     |      namedtuple.\n     |      Those are the number of read/write calls performed and the\n     |      amount of bytes read and written by the process.\n     |  \n     |  ionice(self, ioclass=None, value=None)\n     |      Get or set process I/O niceness (priority).\n     |      \n     |      On Linux *ioclass* is one of the IOPRIO_CLASS_* constants.\n     |      *value* is a number which goes from 0 to 7. The higher the\n     |      value, the lower the I/O priority of the process.\n     |      \n     |      On Windows only *ioclass* is used and it can be set to 2\n     |      (normal), 1 (low) or 0 (very low).\n     |      \n     |      Available on Linux and Windows > Vista only.\n     |  \n     |  is_running(self)\n     |      Return whether this process is running.\n     |      It also checks if PID has been reused by another process in\n     |      which case return False.\n     |  \n     |  kill(self)\n     |      Kill the current process with SIGKILL pre-emptively checking\n     |      whether PID has been reused.\n     |  \n     |  memory_full_info(self)\n     |      This method returns the same information as memory_info(),\n     |      plus, on some platform (Linux, macOS, Windows), also provides\n     |      additional metrics (USS, PSS and swap).\n     |      The additional metrics provide a better representation of actual\n     |      process memory usage.\n     |      \n     |      Namely USS is the memory which is unique to a process and which\n     |      would be freed if the process was terminated right now.\n     |      \n     |      It does so by passing through the whole process address.\n     |      As such it usually requires higher user privileges than\n     |      memory_info() and is considerably slower.\n     |  \n     |  memory_info(self)\n     |      Return a namedtuple with variable fields depending on the\n     |      platform, representing memory information about the process.\n     |      \n     |      The \"portable\" fields available on all plaforms are `rss` and `vms`.\n     |      \n     |      All numbers are expressed in bytes.\n     |  \n     |  memory_info_ex(self)\n     |      memory_info_ex() is deprecated and will be removed; use memory_info() instead\n     |  \n     |  memory_maps(self, grouped=True)\n     |      Return process' mapped memory regions as a list of namedtuples\n     |      whose fields are variable depending on the platform.\n     |      \n     |      If *grouped* is True the mapped regions with the same 'path'\n     |      are grouped together and the different memory fields are summed.\n     |      \n     |      If *grouped* is False every mapped region is shown as a single\n     |      entity and the namedtuple will also include the mapped region's\n     |      address space ('addr') and permission set ('perms').\n     |  \n     |  memory_percent(self, memtype='rss')\n     |      Compare process memory to total physical system memory and\n     |      calculate process memory utilization as a percentage.\n     |      *memtype* argument is a string that dictates what type of\n     |      process memory you want to compare against (defaults to \"rss\").\n     |      The list of available strings can be obtained like this:\n     |      \n     |      >>> psutil.Process().memory_info()._fields\n     |      ('rss', 'vms', 'shared', 'text', 'lib', 'data', 'dirty', 'uss', 'pss')\n     |  \n     |  name(self)\n     |      The process name. The return value is cached after first call.\n     |  \n     |  nice(self, value=None)\n     |      Get or set process niceness (priority).\n     |  \n     |  num_ctx_switches(self)\n     |      Return the number of voluntary and involuntary context\n     |      switches performed by this process.\n     |  \n     |  num_handles(self)\n     |      Return the number of handles opened by this process\n     |      (Windows only).\n     |  \n     |  num_threads(self)\n     |      Return the number of threads used by this process.\n     |  \n     |  oneshot(self)\n     |      Utility context manager which considerably speeds up the\n     |      retrieval of multiple process information at the same time.\n     |      \n     |      Internally different process info (e.g. name, ppid, uids,\n     |      gids, ...) may be fetched by using the same routine, but\n     |      only one information is returned and the others are discarded.\n     |      When using this context manager the internal routine is\n     |      executed once (in the example below on name()) and the\n     |      other info are cached.\n     |      \n     |      The cache is cleared when exiting the context manager block.\n     |      The advice is to use this every time you retrieve more than\n     |      one information about the process. If you're lucky, you'll\n     |      get a hell of a speedup.\n     |      \n     |      >>> import psutil\n     |      >>> p = psutil.Process()\n     |      >>> with p.oneshot():\n     |      ...     p.name()  # collect multiple info\n     |      ...     p.cpu_times()  # return cached value\n     |      ...     p.cpu_percent()  # return cached value\n     |      ...     p.create_time()  # return cached value\n     |      ...\n     |      >>>\n     |  \n     |  open_files(self)\n     |      Return files opened by process as a list of\n     |      (path, fd) namedtuples including the absolute file name\n     |      and file descriptor number.\n     |  \n     |  parent(self)\n     |      Return the parent process as a Process object pre-emptively\n     |      checking whether PID has been reused.\n     |      If no parent is known return None.\n     |  \n     |  parents(self)\n     |      Return the parents of this process as a list of Process\n     |      instances. If no parents are known return an empty list.\n     |  \n     |  ppid(self)\n     |      The process parent PID.\n     |      On Windows the return value is cached after first call.\n     |  \n     |  resume(self)\n     |      Resume process execution with SIGCONT pre-emptively checking\n     |      whether PID has been reused.\n     |      On Windows this has the effect of resuming all process threads.\n     |  \n     |  send_signal(self, sig)\n     |      Send a signal *sig* to process pre-emptively checking\n     |      whether PID has been reused (see signal module constants) .\n     |      On Windows only SIGTERM is valid and is treated as an alias\n     |      for kill().\n     |  \n     |  status(self)\n     |      The process current status as a STATUS_* constant.\n     |  \n     |  suspend(self)\n     |      Suspend process execution with SIGSTOP pre-emptively checking\n     |      whether PID has been reused.\n     |      On Windows this has the effect ot suspending all process threads.\n     |  \n     |  terminate(self)\n     |      Terminate the process with SIGTERM pre-emptively checking\n     |      whether PID has been reused.\n     |      On Windows this is an alias for kill().\n     |  \n     |  threads(self)\n     |      Return threads opened by process as a list of\n     |      (id, user_time, system_time) namedtuples representing\n     |      thread id and thread CPU times (user/system).\n     |      On OpenBSD this method requires root access.\n     |  \n     |  username(self)\n     |      The name of the user that owns the process.\n     |      On UNIX this is calculated by using *real* process uid.\n     |  \n     |  wait(self, timeout=None)\n     |      Wait for process to terminate and, if process is a children\n     |      of os.getpid(), also return its exit code, else None.\n     |      On Windows there's no such limitation (exit code is always\n     |      returned).\n     |      \n     |      If the process is already terminated immediately return None\n     |      instead of raising NoSuchProcess.\n     |      \n     |      If *timeout* (in seconds) is specified and process is still\n     |      alive raise TimeoutExpired.\n     |      \n     |      To wait for multiple Process(es) use psutil.wait_procs().\n     |  \n     |  ----------------------------------------------------------------------\n     |  Readonly properties defined here:\n     |  \n     |  pid\n     |      The process PID.\n     |  \n     |  ----------------------------------------------------------------------\n     |  Data descriptors defined here:\n     |  \n     |  __dict__\n     |      dictionary for instance variables (if defined)\n     |  \n     |  __weakref__\n     |      list of weak references to the object (if defined)\n    \n    class TimeoutExpired(Error)\n     |  TimeoutExpired(seconds, pid=None, name=None)\n     |  \n     |  Raised on Process.wait(timeout) if timeout expires and process\n     |  is still alive.\n     |  \n     |  Method resolution order:\n     |      TimeoutExpired\n     |      Error\n     |      builtins.Exception\n     |      builtins.BaseException\n     |      builtins.object\n     |  \n     |  Methods defined here:\n     |  \n     |  __init__(self, seconds, pid=None, name=None)\n     |      Initialize self.  See help(type(self)) for accurate signature.\n     |  \n     |  ----------------------------------------------------------------------\n     |  Methods inherited from Error:\n     |  \n     |  __repr__(self)\n     |      Return repr(self).\n     |  \n     |  __str__ = __repr__(self)\n     |  \n     |  ----------------------------------------------------------------------\n     |  Data descriptors inherited from Error:\n     |  \n     |  __weakref__\n     |      list of weak references to the object (if defined)\n     |  \n     |  ----------------------------------------------------------------------\n     |  Static methods inherited from builtins.Exception:\n     |  \n     |  __new__(*args, **kwargs) from builtins.type\n     |      Create and return a new object.  See help(type) for accurate signature.\n     |  \n     |  ----------------------------------------------------------------------\n     |  Methods inherited from builtins.BaseException:\n     |  \n     |  __delattr__(self, name, /)\n     |      Implement delattr(self, name).\n     |  \n     |  __getattribute__(self, name, /)\n     |      Return getattr(self, name).\n     |  \n     |  __reduce__(...)\n     |      Helper for pickle.\n     |  \n     |  __setattr__(self, name, value, /)\n     |      Implement setattr(self, name, value).\n     |  \n     |  __setstate__(...)\n     |  \n     |  with_traceback(...)\n     |      Exception.with_traceback(tb) --\n     |      set self.__traceback__ to tb and return self.\n     |  \n     |  ----------------------------------------------------------------------\n     |  Data descriptors inherited from builtins.BaseException:\n     |  \n     |  __cause__\n     |      exception cause\n     |  \n     |  __context__\n     |      exception context\n     |  \n     |  __dict__\n     |  \n     |  __suppress_context__\n     |  \n     |  __traceback__\n     |  \n     |  args\n    \n    class ZombieProcess(NoSuchProcess)\n     |  ZombieProcess(pid, name=None, ppid=None, msg=None)\n     |  \n     |  Exception raised when querying a zombie process. This is\n     |  raised on macOS, BSD and Solaris only, and not always: depending\n     |  on the query the OS may be able to succeed anyway.\n     |  On Linux all zombie processes are querable (hence this is never\n     |  raised). Windows doesn't have zombie processes.\n     |  \n     |  Method resolution order:\n     |      ZombieProcess\n     |      NoSuchProcess\n     |      Error\n     |      builtins.Exception\n     |      builtins.BaseException\n     |      builtins.object\n     |  \n     |  Methods defined here:\n     |  \n     |  __init__(self, pid, name=None, ppid=None, msg=None)\n     |      Initialize self.  See help(type(self)) for accurate signature.\n     |  \n     |  ----------------------------------------------------------------------\n     |  Methods inherited from Error:\n     |  \n     |  __repr__(self)\n     |      Return repr(self).\n     |  \n     |  __str__ = __repr__(self)\n     |  \n     |  ----------------------------------------------------------------------\n     |  Data descriptors inherited from Error:\n     |  \n     |  __weakref__\n     |      list of weak references to the object (if defined)\n     |  \n     |  ----------------------------------------------------------------------\n     |  Static methods inherited from builtins.Exception:\n     |  \n     |  __new__(*args, **kwargs) from builtins.type\n     |      Create and return a new object.  See help(type) for accurate signature.\n     |  \n     |  ----------------------------------------------------------------------\n     |  Methods inherited from builtins.BaseException:\n     |  \n     |  __delattr__(self, name, /)\n     |      Implement delattr(self, name).\n     |  \n     |  __getattribute__(self, name, /)\n     |      Return getattr(self, name).\n     |  \n     |  __reduce__(...)\n     |      Helper for pickle.\n     |  \n     |  __setattr__(self, name, value, /)\n     |      Implement setattr(self, name, value).\n     |  \n     |  __setstate__(...)\n     |  \n     |  with_traceback(...)\n     |      Exception.with_traceback(tb) --\n     |      set self.__traceback__ to tb and return self.\n     |  \n     |  ----------------------------------------------------------------------\n     |  Data descriptors inherited from builtins.BaseException:\n     |  \n     |  __cause__\n     |      exception cause\n     |  \n     |  __context__\n     |      exception context\n     |  \n     |  __dict__\n     |  \n     |  __suppress_context__\n     |  \n     |  __traceback__\n     |  \n     |  args\n\nFUNCTIONS\n    boot_time()\n        Return the system boot time expressed in seconds since the epoch.\n    \n    cpu_count(logical=True)\n        Return the number of logical CPUs in the system (same as\n        os.cpu_count() in Python 3.4).\n        \n        If *logical* is False return the number of physical cores only\n        (e.g. hyper thread CPUs are excluded).\n        \n        Return None if undetermined.\n        \n        The return value is cached after first call.\n        If desired cache can be cleared like this:\n        \n        >>> psutil.cpu_count.cache_clear()\n    \n    cpu_freq(percpu=False)\n        Return CPU frequency as a nameduple including current,\n        min and max frequency expressed in Mhz.\n        \n        If *percpu* is True and the system supports per-cpu frequency\n        retrieval (Linux only) a list of frequencies is returned for\n        each CPU. If not a list with one element is returned.\n    \n    cpu_percent(interval=None, percpu=False)\n        Return a float representing the current system-wide CPU\n        utilization as a percentage.\n        \n        When *interval* is > 0.0 compares system CPU times elapsed before\n        and after the interval (blocking).\n        \n        When *interval* is 0.0 or None compares system CPU times elapsed\n        since last call or module import, returning immediately (non\n        blocking). That means the first time this is called it will\n        return a meaningless 0.0 value which you should ignore.\n        In this case is recommended for accuracy that this function be\n        called with at least 0.1 seconds between calls.\n        \n        When *percpu* is True returns a list of floats representing the\n        utilization as a percentage for each CPU.\n        First element of the list refers to first CPU, second element\n        to second CPU and so on.\n        The order of the list is consistent across calls.\n        \n        Examples:\n        \n          >>> # blocking, system-wide\n          >>> psutil.cpu_percent(interval=1)\n          2.0\n          >>>\n          >>> # blocking, per-cpu\n          >>> psutil.cpu_percent(interval=1, percpu=True)\n          [2.0, 1.0]\n          >>>\n          >>> # non-blocking (percentage since last call)\n          >>> psutil.cpu_percent(interval=None)\n          2.9\n          >>>\n    \n    cpu_stats()\n        Return CPU statistics.\n    \n    cpu_times(percpu=False)\n        Return system-wide CPU times as a namedtuple.\n        Every CPU time represents the seconds the CPU has spent in the\n        given mode. The namedtuple's fields availability varies depending on the\n        platform:\n        \n         - user\n         - system\n         - idle\n         - nice (UNIX)\n         - iowait (Linux)\n         - irq (Linux, FreeBSD)\n         - softirq (Linux)\n         - steal (Linux >= 2.6.11)\n         - guest (Linux >= 2.6.24)\n         - guest_nice (Linux >= 3.2.0)\n        \n        When *percpu* is True return a list of namedtuples for each CPU.\n        First element of the list refers to first CPU, second element\n        to second CPU and so on.\n        The order of the list is consistent across calls.\n    \n    cpu_times_percent(interval=None, percpu=False)\n        Same as cpu_percent() but provides utilization percentages\n        for each specific CPU time as is returned by cpu_times().\n        For instance, on Linux we'll get:\n        \n          >>> cpu_times_percent()\n          cpupercent(user=4.8, nice=0.0, system=4.8, idle=90.5, iowait=0.0,\n                     irq=0.0, softirq=0.0, steal=0.0, guest=0.0, guest_nice=0.0)\n          >>>\n        \n        *interval* and *percpu* arguments have the same meaning as in\n        cpu_percent().\n    \n    disk_io_counters(perdisk=False, nowrap=True)\n        Return system disk I/O statistics as a namedtuple including\n        the following fields:\n        \n         - read_count:  number of reads\n         - write_count: number of writes\n         - read_bytes:  number of bytes read\n         - write_bytes: number of bytes written\n         - read_time:   time spent reading from disk (in ms)\n         - write_time:  time spent writing to disk (in ms)\n        \n        Platform specific:\n        \n         - busy_time: (Linux, FreeBSD) time spent doing actual I/Os (in ms)\n         - read_merged_count (Linux): number of merged reads\n         - write_merged_count (Linux): number of merged writes\n        \n        If *perdisk* is True return the same information for every\n        physical disk installed on the system as a dictionary\n        with partition names as the keys and the namedtuple\n        described above as the values.\n        \n        If *nowrap* is True it detects and adjust the numbers which overflow\n        and wrap (restart from 0) and add \"old value\" to \"new value\" so that\n        the returned numbers will always be increasing or remain the same,\n        but never decrease.\n        \"disk_io_counters.cache_clear()\" can be used to invalidate the\n        cache.\n        \n        On recent Windows versions 'diskperf -y' command may need to be\n        executed first otherwise this function won't find any disk.\n    \n    disk_partitions(all=False)\n        Return mounted partitions as a list of\n        (device, mountpoint, fstype, opts) namedtuple.\n        'opts' field is a raw string separated by commas indicating mount\n        options which may vary depending on the platform.\n        \n        If *all* parameter is False return physical devices only and ignore\n        all others.\n    \n    disk_usage(path)\n        Return disk usage statistics about the given *path* as a\n        namedtuple including total, used and free space expressed in bytes\n        plus the percentage usage.\n    \n    getloadavg()\n        Return the number of processes in the system run queue averaged\n        over the last 1, 5, and 15 minutes respectively as a tuple\n    \n    net_connections(kind='inet')\n        Return system-wide socket connections as a list of\n        (fd, family, type, laddr, raddr, status, pid) namedtuples.\n        In case of limited privileges 'fd' and 'pid' may be set to -1\n        and None respectively.\n        The *kind* parameter filters for connections that fit the\n        following criteria:\n        \n        +------------+----------------------------------------------------+\n        | Kind Value | Connections using                                  |\n        +------------+----------------------------------------------------+\n        | inet       | IPv4 and IPv6                                      |\n        | inet4      | IPv4                                               |\n        | inet6      | IPv6                                               |\n        | tcp        | TCP                                                |\n        | tcp4       | TCP over IPv4                                      |\n        | tcp6       | TCP over IPv6                                      |\n        | udp        | UDP                                                |\n        | udp4       | UDP over IPv4                                      |\n        | udp6       | UDP over IPv6                                      |\n        | unix       | UNIX socket (both UDP and TCP protocols)           |\n        | all        | the sum of all the possible families and protocols |\n        +------------+----------------------------------------------------+\n        \n        On macOS this function requires root privileges.\n    \n    net_if_addrs()\n        Return the addresses associated to each NIC (network interface\n        card) installed on the system as a dictionary whose keys are the\n        NIC names and value is a list of namedtuples for each address\n        assigned to the NIC. Each namedtuple includes 5 fields:\n        \n         - family: can be either socket.AF_INET, socket.AF_INET6 or\n                   psutil.AF_LINK, which refers to a MAC address.\n         - address: is the primary address and it is always set.\n         - netmask: and 'broadcast' and 'ptp' may be None.\n         - ptp: stands for \"point to point\" and references the\n                destination address on a point to point interface\n                (typically a VPN).\n         - broadcast: and *ptp* are mutually exclusive.\n        \n        Note: you can have more than one address of the same family\n        associated with each interface.\n    \n    net_if_stats()\n        Return information about each NIC (network interface card)\n        installed on the system as a dictionary whose keys are the\n        NIC names and value is a namedtuple with the following fields:\n        \n         - isup: whether the interface is up (bool)\n         - duplex: can be either NIC_DUPLEX_FULL, NIC_DUPLEX_HALF or\n                   NIC_DUPLEX_UNKNOWN\n         - speed: the NIC speed expressed in mega bits (MB); if it can't\n                  be determined (e.g. 'localhost') it will be set to 0.\n         - mtu: the maximum transmission unit expressed in bytes.\n    \n    net_io_counters(pernic=False, nowrap=True)\n        Return network I/O statistics as a namedtuple including\n        the following fields:\n        \n         - bytes_sent:   number of bytes sent\n         - bytes_recv:   number of bytes received\n         - packets_sent: number of packets sent\n         - packets_recv: number of packets received\n         - errin:        total number of errors while receiving\n         - errout:       total number of errors while sending\n         - dropin:       total number of incoming packets which were dropped\n         - dropout:      total number of outgoing packets which were dropped\n                         (always 0 on macOS and BSD)\n        \n        If *pernic* is True return the same information for every\n        network interface installed on the system as a dictionary\n        with network interface names as the keys and the namedtuple\n        described above as the values.\n        \n        If *nowrap* is True it detects and adjust the numbers which overflow\n        and wrap (restart from 0) and add \"old value\" to \"new value\" so that\n        the returned numbers will always be increasing or remain the same,\n        but never decrease.\n        \"disk_io_counters.cache_clear()\" can be used to invalidate the\n        cache.\n    \n    pid_exists(pid)\n        Return True if given PID exists in the current process list.\n        This is faster than doing \"pid in psutil.pids()\" and\n        should be preferred.\n    \n    pids()\n        Return a list of current running PIDs.\n    \n    process_iter(attrs=None, ad_value=None)\n        Return a generator yielding a Process instance for all\n        running processes.\n        \n        Every new Process instance is only created once and then cached\n        into an internal table which is updated every time this is used.\n        \n        Cached Process instances are checked for identity so that you're\n        safe in case a PID has been reused by another process, in which\n        case the cached instance is updated.\n        \n        The sorting order in which processes are yielded is based on\n        their PIDs.\n        \n        *attrs* and *ad_value* have the same meaning as in\n        Process.as_dict(). If *attrs* is specified as_dict() is called\n        and the resulting dict is stored as a 'info' attribute attached\n        to returned Process instance.\n        If *attrs* is an empty list it will retrieve all process info\n        (slow).\n    \n    sensors_battery()\n        Return battery information. If no battery is installed\n        returns None.\n        \n         - percent: battery power left as a percentage.\n         - secsleft: a rough approximation of how many seconds are left\n                     before the battery runs out of power. May be\n                     POWER_TIME_UNLIMITED or POWER_TIME_UNLIMITED.\n         - power_plugged: True if the AC power cable is connected.\n    \n    swap_memory()\n        Return system swap memory statistics as a namedtuple including\n        the following fields:\n        \n         - total:   total swap memory in bytes\n         - used:    used swap memory in bytes\n         - free:    free swap memory in bytes\n         - percent: the percentage usage\n         - sin:     no. of bytes the system has swapped in from disk (cumulative)\n         - sout:    no. of bytes the system has swapped out from disk (cumulative)\n        \n        'sin' and 'sout' on Windows are meaningless and always set to 0.\n    \n    users()\n        Return users currently connected on the system as a list of\n        namedtuples including the following fields.\n        \n         - user: the name of the user\n         - terminal: the tty or pseudo-tty associated with the user, if any.\n         - host: the host name associated with the entry, if any.\n         - started: the creation time as a floating point number expressed in\n           seconds since the epoch.\n    \n    virtual_memory()\n        Return statistics about system memory usage as a namedtuple\n        including the following fields, expressed in bytes:\n        \n         - total:\n           total physical memory available.\n        \n         - available:\n           the memory that can be given instantly to processes without the\n           system going into swap.\n           This is calculated by summing different memory values depending\n           on the platform and it is supposed to be used to monitor actual\n           memory usage in a cross platform fashion.\n        \n         - percent:\n           the percentage usage calculated as (total - available) / total * 100\n        \n         - used:\n            memory used, calculated differently depending on the platform and\n            designed for informational purposes only:\n            macOS: active + wired\n            BSD: active + wired + cached\n            Linux: total - free\n        \n         - free:\n           memory not being used at all (zeroed) that is readily available;\n           note that this doesn't reflect the actual memory available\n           (use 'available' instead)\n        \n        Platform-specific fields:\n        \n         - active (UNIX):\n           memory currently in use or very recently used, and so it is in RAM.\n        \n         - inactive (UNIX):\n           memory that is marked as not used.\n        \n         - buffers (BSD, Linux):\n           cache for things like file system metadata.\n        \n         - cached (BSD, macOS):\n           cache for various things.\n        \n         - wired (macOS, BSD):\n           memory that is marked to always stay in RAM. It is never moved to disk.\n        \n         - shared (BSD):\n           memory that may be simultaneously accessed by multiple processes.\n        \n        The sum of 'used' and 'available' does not necessarily equal total.\n        On Windows 'available' and 'free' are the same.\n    \n    wait_procs(procs, timeout=None, callback=None)\n        Convenience function which waits for a list of processes to\n        terminate.\n        \n        Return a (gone, alive) tuple indicating which processes\n        are gone and which ones are still alive.\n        \n        The gone ones will have a new *returncode* attribute indicating\n        process exit status (may be None).\n        \n        *callback* is a function which gets called every time a process\n        terminates (a Process instance is passed as callback argument).\n        \n        Function will return as soon as all processes terminate or when\n        *timeout* occurs.\n        Differently from Process.wait() it will not raise TimeoutExpired if\n        *timeout* occurs.\n        \n        Typical use case is:\n        \n         - send SIGTERM to a list of processes\n         - give them some time to terminate\n         - send SIGKILL to those ones which are still alive\n        \n        Example:\n        \n        >>> def on_terminate(proc):\n        ...     print(\"process {} terminated\".format(proc))\n        ...\n        >>> for p in procs:\n        ...    p.terminate()\n        ...\n        >>> gone, alive = wait_procs(procs, timeout=3, callback=on_terminate)\n        >>> for p in alive:\n        ...     p.kill()\n    \n    win_service_get(name)\n        Get a Windows service by *name*.\n        Raise NoSuchProcess if no service with such name exists.\n    \n    win_service_iter()\n        Return a generator yielding a WindowsService instance for all\n        Windows services installed.\n\nDATA\n    ABOVE_NORMAL_PRIORITY_CLASS = 32768\n    AF_LINK = <AddressFamily.AF_LINK: -1>\n    AIX = False\n    BELOW_NORMAL_PRIORITY_CLASS = 16384\n    BSD = False\n    CONN_CLOSE = 'CLOSE'\n    CONN_CLOSE_WAIT = 'CLOSE_WAIT'\n    CONN_CLOSING = 'CLOSING'\n    CONN_DELETE_TCB = 'DELETE_TCB'\n    CONN_ESTABLISHED = 'ESTABLISHED'\n    CONN_FIN_WAIT1 = 'FIN_WAIT1'\n    CONN_FIN_WAIT2 = 'FIN_WAIT2'\n    CONN_LAST_ACK = 'LAST_ACK'\n    CONN_LISTEN = 'LISTEN'\n    CONN_NONE = 'NONE'\n    CONN_SYN_RECV = 'SYN_RECV'\n    CONN_SYN_SENT = 'SYN_SENT'\n    CONN_TIME_WAIT = 'TIME_WAIT'\n    FREEBSD = False\n    HIGH_PRIORITY_CLASS = 128\n    IDLE_PRIORITY_CLASS = 64\n    IOPRIO_HIGH = <IOPriority.IOPRIO_HIGH: 3>\n    IOPRIO_LOW = <IOPriority.IOPRIO_LOW: 1>\n    IOPRIO_NORMAL = <IOPriority.IOPRIO_NORMAL: 2>\n    IOPRIO_VERYLOW = <IOPriority.IOPRIO_VERYLOW: 0>\n    LINUX = False\n    MACOS = False\n    NETBSD = False\n    NIC_DUPLEX_FULL = <NicDuplex.NIC_DUPLEX_FULL: 2>\n    NIC_DUPLEX_HALF = <NicDuplex.NIC_DUPLEX_HALF: 1>\n    NIC_DUPLEX_UNKNOWN = <NicDuplex.NIC_DUPLEX_UNKNOWN: 0>\n    NORMAL_PRIORITY_CLASS = 32\n    OPENBSD = False\n    OSX = False\n    POSIX = False\n    POWER_TIME_UNKNOWN = <BatteryTime.POWER_TIME_UNKNOWN: -1>\n    POWER_TIME_UNLIMITED = <BatteryTime.POWER_TIME_UNLIMITED: -2>\n    REALTIME_PRIORITY_CLASS = 256\n    STATUS_DEAD = 'dead'\n    STATUS_DISK_SLEEP = 'disk-sleep'\n    STATUS_IDLE = 'idle'\n    STATUS_LOCKED = 'locked'\n    STATUS_PARKED = 'parked'\n    STATUS_RUNNING = 'running'\n    STATUS_SLEEPING = 'sleeping'\n    STATUS_STOPPED = 'stopped'\n    STATUS_TRACING_STOP = 'tracing-stop'\n    STATUS_WAITING = 'waiting'\n    STATUS_WAKING = 'waking'\n    STATUS_ZOMBIE = 'zombie'\n    SUNOS = False\n    WINDOWS = True\n    __all__ = ['Error', 'NoSuchProcess', 'ZombieProcess', 'AccessDenied', ...\n    version_info = (5, 7, 2)\n\nVERSION\n    5.7.2\n\nAUTHOR\n    Giampaolo Rodola'\n\nFILE\n    c:\\users\\wyz15\\appdata\\local\\programs\\python\\python38\\lib\\site-packages\\psutil\\__init__.py\n\n\n"
     ]
    }
   ],
   "source": [
    "# 更详细的使用方法查看使用帮助\n",
    "help(p)"
   ]
  },
  {
   "cell_type": "code",
   "execution_count": null,
   "metadata": {},
   "outputs": [],
   "source": []
  }
 ]
}