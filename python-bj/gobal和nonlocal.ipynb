{
 "metadata": {
  "language_info": {
   "codemirror_mode": {
    "name": "ipython",
    "version": 3
   },
   "file_extension": ".py",
   "mimetype": "text/x-python",
   "name": "python",
   "nbconvert_exporter": "python",
   "pygments_lexer": "ipython3",
   "version": "3.8.1-final"
  },
  "orig_nbformat": 2,
  "kernelspec": {
   "name": "python3",
   "display_name": "Python 3.8.1 64-bit",
   "metadata": {
    "interpreter": {
     "hash": "370145251cc500e750978b91073433d3eebb8b97d93cd27ac3d4ef415acba9a2"
    }
   }
  }
 },
 "nbformat": 4,
 "nbformat_minor": 2,
 "cells": [
  {
   "source": [
    "# Global 和 Nonlocal 关键字的使用和区别\n",
    "global 的作用是声明变量是全局变量,用于函数对全局变量的修改引用  \n",
    "nonlocal 的作用是声明变量不是局部变量,用于闭包的嵌套函数中"
   ],
   "cell_type": "markdown",
   "metadata": {}
  },
  {
   "cell_type": "code",
   "execution_count": 4,
   "metadata": {},
   "outputs": [
    {
     "output_type": "stream",
     "name": "stdout",
     "text": [
      "10\n11\n"
     ]
    }
   ],
   "source": [
    "# 如果不修改函数,可以直接引用变量,无需声明为全局变量\n",
    "x = 10\n",
    "def bar():\n",
    "    # 声明变量为全局变量后,可在函数内部进行修改\n",
    "    global x\n",
    "    print(x)\n",
    "    x += 1\n",
    "bar()\n",
    "# x 在函数内部被修改了\n",
    "print(x)"
   ]
  },
  {
   "cell_type": "code",
   "execution_count": 26,
   "metadata": {},
   "outputs": [
    {
     "output_type": "stream",
     "name": "stdout",
     "text": [
      "10\n11\n"
     ]
    }
   ],
   "source": [
    "def foo():\n",
    "    # x 是定义在函数 foo() 中的变量,不是全局变量,不能被嵌套函数直接引用\n",
    "    x = 10\n",
    "    def bar():\n",
    "        # 声明变量不是局部变量,但又不是全局变量\n",
    "        nonlocal x\n",
    "        print(x)\n",
    "        x += 1\n",
    "    bar()\n",
    "    # x 在嵌套函数内部修改后发生了变化\n",
    "    print(x)\n",
    "foo()"
   ]
  },
  {
   "cell_type": "code",
   "execution_count": 17,
   "metadata": {},
   "outputs": [
    {
     "output_type": "stream",
     "name": "stdout",
     "text": [
      "The \"global\" statement\n**********************\n\n   global_stmt ::= \"global\" identifier (\",\" identifier)*\n\nThe \"global\" statement is a declaration which holds for the entire\ncurrent code block.  It means that the listed identifiers are to be\ninterpreted as globals.  It would be impossible to assign to a global\nvariable without \"global\", although free variables may refer to\nglobals without being declared global.\n\nNames listed in a \"global\" statement must not be used in the same code\nblock textually preceding that \"global\" statement.\n\nNames listed in a \"global\" statement must not be defined as formal\nparameters or in a \"for\" loop control target, \"class\" definition,\nfunction definition, \"import\" statement, or variable annotation.\n\n**CPython implementation detail:** The current implementation does not\nenforce some of these restrictions, but programs should not abuse this\nfreedom, as future implementations may enforce them or silently change\nthe meaning of the program.\n\n**Programmer’s note:** \"global\" is a directive to the parser.  It\napplies only to code parsed at the same time as the \"global\"\nstatement. In particular, a \"global\" statement contained in a string\nor code object supplied to the built-in \"exec()\" function does not\naffect the code block *containing* the function call, and code\ncontained in such a string is unaffected by \"global\" statements in the\ncode containing the function call.  The same applies to the \"eval()\"\nand \"compile()\" functions.\n\nRelated help topics: nonlocal, NAMESPACES\n\n"
     ]
    }
   ],
   "source": [
    "help(\"global\")"
   ]
  },
  {
   "cell_type": "code",
   "execution_count": 18,
   "metadata": {},
   "outputs": [
    {
     "output_type": "stream",
     "name": "stdout",
     "text": [
      "The \"nonlocal\" statement\n************************\n\n   nonlocal_stmt ::= \"nonlocal\" identifier (\",\" identifier)*\n\nThe \"nonlocal\" statement causes the listed identifiers to refer to\npreviously bound variables in the nearest enclosing scope excluding\nglobals. This is important because the default behavior for binding is\nto search the local namespace first.  The statement allows\nencapsulated code to rebind variables outside of the local scope\nbesides the global (module) scope.\n\nNames listed in a \"nonlocal\" statement, unlike those listed in a\n\"global\" statement, must refer to pre-existing bindings in an\nenclosing scope (the scope in which a new binding should be created\ncannot be determined unambiguously).\n\nNames listed in a \"nonlocal\" statement must not collide with pre-\nexisting bindings in the local scope.\n\nSee also:\n\n  **PEP 3104** - Access to Names in Outer Scopes\n     The specification for the \"nonlocal\" statement.\n\nRelated help topics: global, NAMESPACES\n\n"
     ]
    }
   ],
   "source": [
    "help(\"nonlocal\")"
   ]
  }
 ]
}