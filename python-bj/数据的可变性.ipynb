{
 "metadata": {
  "language_info": {
   "codemirror_mode": {
    "name": "ipython",
    "version": 3
   },
   "file_extension": ".py",
   "mimetype": "text/x-python",
   "name": "python",
   "nbconvert_exporter": "python",
   "pygments_lexer": "ipython3",
   "version": "3.8.1-final"
  },
  "orig_nbformat": 2,
  "kernelspec": {
   "name": "python3",
   "display_name": "Python 3.8.1 64-bit",
   "metadata": {
    "interpreter": {
     "hash": "370145251cc500e750978b91073433d3eebb8b97d93cd27ac3d4ef415acba9a2"
    }
   }
  }
 },
 "nbformat": 4,
 "nbformat_minor": 2,
 "cells": [
  {
   "source": [
    "# 分析测试 python 中数据类型的可变性\n",
    "在python 的官方文档中对\"不可变\"定义如下:  \n",
    "immutable: An object with a fixed value. Immutable objects include **numbers**, **strings** and **tuples**. Such an object cannot be altered. A new object has to be created if a different values has to be stored.  \n",
    "对象有一个固定的值.不可变对象包括,数字,字符串,元组.如此的对象不能修改.如要存储一个不同的值,一个新对象会被创建\n",
    "\n",
    "对\"可变\"定义如下:  \n",
    "mutable: Mutable objects can change their value but keep their id()  \n",
    "可变对象在改变值得同时保持id()不变\n",
    "\n",
    "本文讨论的对象为\"元组\",只有元组的不可变性有一定的争议"
   ],
   "cell_type": "markdown",
   "metadata": {}
  },
  {
   "source": [
    "## 结论: 可变性是对象的属性,而不是数据类型的属性,所以对于元组,不同的对象表现不同"
   ],
   "cell_type": "markdown",
   "metadata": {}
  },
  {
   "cell_type": "code",
   "execution_count": 1,
   "metadata": {},
   "outputs": [
    {
     "output_type": "stream",
     "name": "stdout",
     "text": [
      "6\n"
     ]
    },
    {
     "output_type": "execute_result",
     "data": {
      "text/plain": [
       "False"
      ]
     },
     "metadata": {},
     "execution_count": 1
    }
   ],
   "source": [
    "# 数字类型不可变,id()值前后不同,在试图修改值得时候会报错\n",
    "# 在 a += 1 的过程中,实际是创建了一个新的对象\"6\",然后使 a 指向 \"6\"\n",
    "a = 5\n",
    "id1 = id(a)\n",
    "a += 1\n",
    "print(a)\n",
    "id2 = id(a)\n",
    "id1==id2"
   ]
  },
  {
   "cell_type": "code",
   "execution_count": 2,
   "metadata": {},
   "outputs": [
    {
     "output_type": "stream",
     "name": "stdout",
     "text": [
      "abca\n"
     ]
    },
    {
     "output_type": "execute_result",
     "data": {
      "text/plain": [
       "False"
      ]
     },
     "metadata": {},
     "execution_count": 2
    }
   ],
   "source": [
    "# 字符串类型不可变,id()值前后不同\n",
    "# 同上, a 指向的已经是不同的对象了\n",
    "a = \"abc\"\n",
    "id1=id(a)\n",
    "a +=\"a\"\n",
    "print(a)\n",
    "id2=id(a)\n",
    "id1==id2"
   ]
  },
  {
   "cell_type": "code",
   "execution_count": 3,
   "metadata": {},
   "outputs": [
    {
     "output_type": "stream",
     "name": "stdout",
     "text": [
      "[1, 2, 3, 4]\n"
     ]
    },
    {
     "output_type": "execute_result",
     "data": {
      "text/plain": [
       "True"
      ]
     },
     "metadata": {},
     "execution_count": 3
    }
   ],
   "source": [
    "# 列表类型可变,id()值前后相同\n",
    "a = [1,2,3]\n",
    "id1 = id(a)\n",
    "a.append(4)\n",
    "print(a)\n",
    "id2 = id(a)\n",
    "id1 == id2"
   ]
  },
  {
   "cell_type": "code",
   "execution_count": 4,
   "metadata": {},
   "outputs": [
    {
     "output_type": "stream",
     "name": "stdout",
     "text": [
      "{1: 30, 2: 20}\n"
     ]
    },
    {
     "output_type": "execute_result",
     "data": {
      "text/plain": [
       "True"
      ]
     },
     "metadata": {},
     "execution_count": 4
    }
   ],
   "source": [
    "# 字典类型可变,id()值前后相同\n",
    "a = {1 : 10, 2: 20}\n",
    "id1 = id(a)\n",
    "a[1] = 30\n",
    "print(a)\n",
    "id2 = id(a)\n",
    "id1 == id2"
   ]
  },
  {
   "cell_type": "code",
   "execution_count": 5,
   "metadata": {},
   "outputs": [
    {
     "output_type": "stream",
     "name": "stdout",
     "text": [
      "(1, 2, 3, [5, 5])\n"
     ]
    },
    {
     "output_type": "execute_result",
     "data": {
      "text/plain": [
       "True"
      ]
     },
     "metadata": {},
     "execution_count": 5
    }
   ],
   "source": [
    "# 元组在官方文档中定义为不可变,但实际使用中如包含可变部分,元组的值也是可变的\n",
    "# 可以看到元组 a 的值发生了变化,但 id() 还是相同的,说明 a 指向的是同一个对象\n",
    "a = (1,2,3,[4,5])\n",
    "id1 = id(a)\n",
    "a[3][0] = 5\n",
    "print(a)\n",
    "id2 = id(a)\n",
    "id1 == id2\n"
   ]
  },
  {
   "cell_type": "code",
   "execution_count": null,
   "metadata": {},
   "outputs": [],
   "source": []
  }
 ]
}